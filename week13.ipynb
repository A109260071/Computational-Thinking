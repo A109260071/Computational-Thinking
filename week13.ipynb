{
  "nbformat": 4,
  "nbformat_minor": 0,
  "metadata": {
    "colab": {
      "name": "Untitled6.ipynb",
      "provenance": [],
      "authorship_tag": "ABX9TyONnYtzSbvJiQCCBXhj4v0i",
      "include_colab_link": true
    },
    "kernelspec": {
      "name": "python3",
      "display_name": "Python 3"
    }
  },
  "cells": [
    {
      "cell_type": "markdown",
      "metadata": {
        "id": "view-in-github",
        "colab_type": "text"
      },
      "source": [
        "<a href=\"https://colab.research.google.com/github/A109260071/Computational-Thinking/blob/master/week13.ipynb\" target=\"_parent\"><img src=\"https://colab.research.google.com/assets/colab-badge.svg\" alt=\"Open In Colab\"/></a>"
      ]
    },
    {
      "cell_type": "code",
      "metadata": {
        "id": "t4dhPY33tTeT",
        "colab": {
          "base_uri": "https://localhost:8080/"
        },
        "outputId": "ad748ed4-e4f3-4441-91ed-769ced36edc8"
      },
      "source": [
        "for i in range(0,5,1):\n",
        " print(i)"
      ],
      "execution_count": null,
      "outputs": [
        {
          "output_type": "stream",
          "text": [
            "0\n",
            "1\n",
            "2\n",
            "3\n",
            "4\n"
          ],
          "name": "stdout"
        }
      ]
    },
    {
      "cell_type": "code",
      "metadata": {
        "colab": {
          "base_uri": "https://localhost:8080/"
        },
        "id": "7zkKKLSDt7-z",
        "outputId": "c61e628d-e413-4b1a-ecf0-5633c1b5dc6a"
      },
      "source": [
        "for i in range(100, 90, -3):\n",
        " print(i)"
      ],
      "execution_count": null,
      "outputs": [
        {
          "output_type": "stream",
          "text": [
            "100\n",
            "97\n",
            "94\n",
            "91\n"
          ],
          "name": "stdout"
        }
      ]
    },
    {
      "cell_type": "code",
      "metadata": {
        "colab": {
          "base_uri": "https://localhost:8080/"
        },
        "id": "Wn4UVx4yuplY",
        "outputId": "58ee848f-ad70-4449-fbf9-9b425021cc7e"
      },
      "source": [
        "sum = 0 \n",
        "for i in range(3, 14, 3):\n",
        " sum = sum + i \n",
        "print(\"Total is\", sum)"
      ],
      "execution_count": 11,
      "outputs": [
        {
          "output_type": "stream",
          "text": [
            "Total is 30\n"
          ],
          "name": "stdout"
        }
      ]
    }
  ]
}