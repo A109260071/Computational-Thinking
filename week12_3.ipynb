{
  "nbformat": 4,
  "nbformat_minor": 0,
  "metadata": {
    "colab": {
      "name": "week12-3",
      "provenance": [],
      "authorship_tag": "ABX9TyPE97IfHgR+pRou4BEztIDt",
      "include_colab_link": true
    },
    "kernelspec": {
      "name": "python3",
      "display_name": "Python 3"
    }
  },
  "cells": [
    {
      "cell_type": "markdown",
      "metadata": {
        "id": "view-in-github",
        "colab_type": "text"
      },
      "source": [
        "<a href=\"https://colab.research.google.com/github/A109260071/Computational-Thinking/blob/master/week12_3.ipynb\" target=\"_parent\"><img src=\"https://colab.research.google.com/assets/colab-badge.svg\" alt=\"Open In Colab\"/></a>"
      ]
    },
    {
      "cell_type": "code",
      "metadata": {
        "id": "_6PG5IvPV39M"
      },
      "source": [
        "a = range(10)\n",
        "print(a[0], a[1], a[2], a[3], a[4], a[5], a[6], a[7], a[8], a[9])\n",
        "b = range(0,9,2)\n",
        "print(b[0], b[1], b[2], b[3], b[4])\n",
        "c = range(5,10,2)\n",
        "print(c[0], c[1], c[2])\n",
        "d = range(0,-10,-1)\n",
        "print(d[0], d[1], d[2], d[3], d[4], d[5], d[6], d[7], d[8], d[9])"
      ],
      "execution_count": null,
      "outputs": []
    }
  ]
}