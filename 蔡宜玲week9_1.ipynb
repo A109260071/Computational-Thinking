{
  "nbformat": 4,
  "nbformat_minor": 0,
  "metadata": {
    "colab": {
      "name": "蔡宜玲week9-1",
      "provenance": [],
      "authorship_tag": "ABX9TyMlXrLvJvrzrZ114kYiOn4Q",
      "include_colab_link": true
    },
    "kernelspec": {
      "name": "python3",
      "display_name": "Python 3"
    }
  },
  "cells": [
    {
      "cell_type": "markdown",
      "metadata": {
        "id": "view-in-github",
        "colab_type": "text"
      },
      "source": [
        "<a href=\"https://colab.research.google.com/github/A109260071/Computational-Thinking/blob/master/%E8%94%A1%E5%AE%9C%E7%8E%B2week9_1.ipynb\" target=\"_parent\"><img src=\"https://colab.research.google.com/assets/colab-badge.svg\" alt=\"Open In Colab\"/></a>"
      ]
    },
    {
      "cell_type": "code",
      "metadata": {
        "id": "BT80fdTqZxYs"
      },
      "source": [
        "x = 2\n",
        "y = 5\n",
        "print(x + y)\n",
        "print(x - y)\n",
        "print(x * y)\n",
        "print(x / y)\n",
        "print(x // y)\n",
        "print(x % y)\n",
        "print(x ** y)"
      ],
      "execution_count": null,
      "outputs": []
    },
    {
      "cell_type": "markdown",
      "metadata": {
        "id": "ZmhNjAPNfoPs"
      },
      "source": [
        "1. # 標準輸入輸出\n",
        "\n",
        "2. ## input()\n",
        "\n",
        "3. ## print()"
      ]
    },
    {
      "cell_type": "code",
      "metadata": {
        "id": "n1_kCOKTbZ_A",
        "outputId": "8880c50b-9adc-4436-ffe7-8de43b27c06d",
        "colab": {
          "base_uri": "https://localhost:8080/",
          "height": 52
        }
      },
      "source": [
        "input()"
      ],
      "execution_count": 1,
      "outputs": [
        {
          "output_type": "stream",
          "text": [
            "3\n"
          ],
          "name": "stdout"
        },
        {
          "output_type": "execute_result",
          "data": {
            "application/vnd.google.colaboratory.intrinsic+json": {
              "type": "string"
            },
            "text/plain": [
              "'3'"
            ]
          },
          "metadata": {
            "tags": []
          },
          "execution_count": 1
        }
      ]
    },
    {
      "cell_type": "code",
      "metadata": {
        "id": "pA7PSYTJboBA",
        "outputId": "88832b8d-cd35-43dc-df84-33f834cdae22",
        "colab": {
          "base_uri": "https://localhost:8080/",
          "height": 52
        }
      },
      "source": [
        "input('請輸入數字')"
      ],
      "execution_count": 3,
      "outputs": [
        {
          "output_type": "stream",
          "text": [
            "請輸入數字3\n"
          ],
          "name": "stdout"
        },
        {
          "output_type": "execute_result",
          "data": {
            "application/vnd.google.colaboratory.intrinsic+json": {
              "type": "string"
            },
            "text/plain": [
              "'3'"
            ]
          },
          "metadata": {
            "tags": []
          },
          "execution_count": 3
        }
      ]
    },
    {
      "cell_type": "code",
      "metadata": {
        "id": "ZtBWT2ekgD8p",
        "outputId": "fe9ea2f1-39a4-437c-9f5d-3b71d925ac72",
        "colab": {
          "base_uri": "https://localhost:8080/"
        }
      },
      "source": [
        "x = print(3)"
      ],
      "execution_count": 4,
      "outputs": [
        {
          "output_type": "stream",
          "text": [
            "3\n"
          ],
          "name": "stdout"
        }
      ]
    },
    {
      "cell_type": "code",
      "metadata": {
        "id": "QOQcXXXLgKrJ",
        "outputId": "9b139d30-cf2c-4094-91a2-40b79a18a919",
        "colab": {
          "base_uri": "https://localhost:8080/"
        }
      },
      "source": [
        "x = 3\n",
        "print(x)"
      ],
      "execution_count": 12,
      "outputs": [
        {
          "output_type": "stream",
          "text": [
            "3\n"
          ],
          "name": "stdout"
        }
      ]
    },
    {
      "cell_type": "code",
      "metadata": {
        "id": "H7O_83j2gkEH",
        "outputId": "9f4921ff-0803-491b-ee88-ff9dc33b475e",
        "colab": {
          "base_uri": "https://localhost:8080/"
        }
      },
      "source": [
        "print(x, 2, 'python')"
      ],
      "execution_count": 13,
      "outputs": [
        {
          "output_type": "stream",
          "text": [
            "3 2 python\n"
          ],
          "name": "stdout"
        }
      ]
    },
    {
      "cell_type": "code",
      "metadata": {
        "id": "10maQdpggynm",
        "outputId": "16a74b64-7274-4fb4-bf84-f10f7a5ccbe4",
        "colab": {
          "base_uri": "https://localhost:8080/"
        }
      },
      "source": [
        "clothes = int(input('Enter the price of the clothes'))\n",
        "trousers = int(input('Enter the price of the trousers'))\n",
        "vests = int(input('Enter the price of the vests'))\n",
        "\n",
        "Total = clothes*300 + trousers*350 + vests*400\n",
        "print(\"總金額為\", Total)"
      ],
      "execution_count": 11,
      "outputs": [
        {
          "output_type": "stream",
          "text": [
            "Enter the price of the clothes5\n",
            "Enter the price of the trousers5\n",
            "Enter the price of the vests5\n",
            "總金額為 5250\n"
          ],
          "name": "stdout"
        }
      ]
    }
  ]
}